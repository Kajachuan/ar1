{
  "nbformat": 4,
  "nbformat_minor": 0,
  "metadata": {
    "colab": {
      "provenance": []
    },
    "kernelspec": {
      "name": "python3",
      "display_name": "Python 3"
    },
    "language_info": {
      "name": "python"
    }
  },
  "cells": [
    {
      "cell_type": "code",
      "source": [
        "# Instalo dependencias para poder renderizar\n",
        "!apt-get install x11-utils > /dev/null 2>&1\n",
        "!pip install pyglet > /dev/null 2>&1\n",
        "!apt-get install -y xvfb python-opengl > /dev/null 2>&1\n",
        "!pip install \"gymnasium[mujoco]\" > /dev/null 2>&1\n",
        "!pip install pyvirtualdisplay > /dev/null 2>&1"
      ],
      "metadata": {
        "id": "xMxItXvnDHSm"
      },
      "execution_count": 1,
      "outputs": []
    },
    {
      "cell_type": "code",
      "execution_count": 2,
      "metadata": {
        "id": "Vvd0WYDP6v2L",
        "colab": {
          "base_uri": "https://localhost:8080/"
        },
        "outputId": "cce53209-2216-4a8a-8ed5-dc4820813d49"
      },
      "outputs": [
        {
          "output_type": "execute_result",
          "data": {
            "text/plain": [
              "<pyvirtualdisplay.display.Display at 0x79a69f34e310>"
            ]
          },
          "metadata": {},
          "execution_count": 2
        }
      ],
      "source": [
        "import gymnasium as gym\n",
        "import matplotlib.pyplot as plt\n",
        "import numpy as np\n",
        "import random\n",
        "import time\n",
        "\n",
        "from gymnasium.wrappers import RecordVideo\n",
        "from IPython import display as ipythondisplay\n",
        "from pyvirtualdisplay import Display\n",
        "\n",
        "# Inicializo el display para renderizar\n",
        "display = Display(visible=0, size=(400, 300))\n",
        "display.start()"
      ]
    },
    {
      "cell_type": "code",
      "source": [
        "# --- Inicialización ---\n",
        "env_name = \"InvertedPendulum-v5\"\n",
        "\n",
        "env = RecordVideo(\n",
        "    gym.make(env_name, render_mode=\"rgb_array\"),\n",
        "    video_folder=\"./videos/sarsa\",\n",
        "    episode_trigger=lambda x: (x + 1) % 10000 == 0\n",
        ")\n",
        "\n",
        "# Discretización de acciones\n",
        "num_actions = 21\n",
        "act_space = np.linspace(-3, 3, num_actions)\n",
        "\n",
        "# Discretización de estados\n",
        "num_bins = 10\n",
        "pos_space = np.linspace(-2.4, 2.4, num_bins)\n",
        "ang_space = np.linspace(-0.2, 0.2, num_bins)\n",
        "vel_space = np.linspace(-2, 2, num_bins)\n",
        "ang_vel_space = np.linspace(-3, 3, num_bins)\n",
        "\n",
        "def discretize_state(observation):\n",
        "    pos, ang, vel, ang_vel = observation\n",
        "    digitized = [\n",
        "        np.digitize(pos, pos_space),\n",
        "        np.digitize(ang, ang_space),\n",
        "        np.digitize(vel, vel_space),\n",
        "        np.digitize(ang_vel, ang_vel_space)\n",
        "    ]\n",
        "    return tuple(digitized)\n",
        "\n",
        "# SARSA\n",
        "learning_rate = 0.1        # Alpha: Tasa de aprendizaje\n",
        "discount_factor = 0.95     # Gamma: Factor de descuento (valor de recompensas futuras)\n",
        "num_episodes = 20000       # Número de episodios para entrenar\n",
        "\n",
        "# Exploración (Epsilon-Greedy)\n",
        "epsilon = 1.0              # Tasa de exploración inicial (100% aleatorio)\n",
        "max_epsilon = 1.0          # Máximo valor de epsilon\n",
        "min_epsilon = 0.01         # Mínimo valor de epsilon\n",
        "epsilon_decay_rate = 0.0005 # Tasa de decaimiento de epsilon por episodio\n",
        "\n",
        "# Para reporte/gráficas\n",
        "report_interval = num_episodes // 20 # Cada cuántos episodios mostrar progreso\n",
        "moving_avg_window = 100    # Ventana para la media móvil en la gráfica\n",
        "\n",
        "# Inicializar la tabla Q con ceros\n",
        "q_table = np.zeros((num_bins + 1, num_bins + 1, num_bins + 1, num_bins + 1, num_actions))\n",
        "\n",
        "# Lista para guardar recompensas y pasos por episodio\n",
        "rewards_all_episodes = []\n",
        "steps_all_episodes = []\n",
        "\n",
        "print(f\"--- Iniciando Entrenamiento SARSA ---\")\n",
        "print(f\"Entorno: {env_name}\")\n",
        "print(f\"Estados: {num_bins * 4}, Acciones: {num_actions}\")\n",
        "print(f\"Parámetros: α={learning_rate}, γ={discount_factor}, ε-decay={epsilon_decay_rate}\")\n",
        "print(f\"Episodios: {num_episodes}\")\n",
        "print(\"-\" * 40)\n",
        "\n",
        "start_time = time.time()\n",
        "\n",
        "# --- Bucle de Entrenamiento ---\n",
        "for episode in range(num_episodes):\n",
        "    # Reiniciar entorno\n",
        "    observation, _ = env.reset()\n",
        "    state = discretize_state(observation)\n",
        "    terminated = False\n",
        "    truncated = False\n",
        "\n",
        "    total_reward_episode = 0\n",
        "    steps_episode = 0\n",
        "\n",
        "    # 1. Primera acción\n",
        "    if random.uniform(0, 1) < epsilon:\n",
        "        action_idx = np.random.randint(0, num_actions) # Explorar\n",
        "    else:\n",
        "        action_idx = np.argmax(q_table[state]) # Explotar\n",
        "\n",
        "    while not (terminated or truncated):\n",
        "        # 2. Ejecutar Acción\n",
        "        action = act_space[action_idx]\n",
        "        new_observation, reward, terminated, truncated, _ = env.step([action])\n",
        "        new_state = discretize_state(new_observation)\n",
        "\n",
        "        # 3. Próxima acción\n",
        "        if random.uniform(0, 1) < epsilon:\n",
        "            new_action_idx = np.random.randint(0, num_actions) # Explorar\n",
        "        else:\n",
        "            new_action_idx = np.argmax(q_table[new_state]) # Explotar\n",
        "\n",
        "        # 4. Actualizar Q-Table (Fórmula de Bellman)\n",
        "        current_q = q_table[state][action_idx]\n",
        "        next_q = q_table[new_state][new_action_idx]\n",
        "        q_table[state][action_idx] = current_q + learning_rate * (reward + discount_factor * next_q - current_q)\n",
        "\n",
        "        # Actualizar estado, acción y contadores\n",
        "        state = new_state\n",
        "        action_idx = new_action_idx\n",
        "        total_reward_episode += reward\n",
        "        steps_episode += 1\n",
        "\n",
        "    # Fin del episodio\n",
        "    rewards_all_episodes.append(total_reward_episode)\n",
        "    steps_all_episodes.append(steps_episode)\n",
        "\n",
        "    # 4. Decaimiento de Epsilon (exponencial)\n",
        "    epsilon = min_epsilon + (max_epsilon - min_epsilon) * np.exp(-epsilon_decay_rate * episode)\n",
        "\n",
        "    # Reportar progreso\n",
        "    if (episode + 1) % report_interval == 0:\n",
        "        avg_reward = np.mean(rewards_all_episodes[-report_interval:])\n",
        "        avg_steps = np.mean(steps_all_episodes[-report_interval:])\n",
        "        print(f\"Episodio: {episode+1:>5}/{num_episodes} | \"\n",
        "              f\"Recompensa Prom (últimos {report_interval}): {avg_reward:>6.2f} | \"\n",
        "              f\"Pasos Prom (últimos {report_interval}): {avg_steps:>6.1f} | \"\n",
        "              f\"Epsilon: {epsilon:.3f}\")\n",
        "\n",
        "env.close()\n",
        "end_time = time.time()\n",
        "\n",
        "print(\"-\" * 40)\n",
        "print(f\"Entrenamiento finalizado en {end_time - start_time:.2f} segundos.\")\n",
        "print(\"-\" * 40)"
      ],
      "metadata": {
        "colab": {
          "base_uri": "https://localhost:8080/"
        },
        "id": "Ooq3sSDOU4Ws",
        "outputId": "6aa8249f-6123-43aa-d42f-d2cafd553af9"
      },
      "execution_count": 3,
      "outputs": [
        {
          "output_type": "stream",
          "name": "stdout",
          "text": [
            "--- Iniciando Entrenamiento SARSA ---\n",
            "Entorno: InvertedPendulum-v5\n",
            "Estados: 40, Acciones: 21\n",
            "Parámetros: α=0.1, γ=0.95, ε-decay=0.0005\n",
            "Episodios: 20000\n",
            "----------------------------------------\n",
            "Episodio:  1000/20000 | Recompensa Prom (últimos 1000):   5.78 | Pasos Prom (últimos 1000):    6.8 | Epsilon: 0.611\n",
            "Episodio:  2000/20000 | Recompensa Prom (últimos 1000):   9.13 | Pasos Prom (últimos 1000):   10.1 | Epsilon: 0.374\n",
            "Episodio:  3000/20000 | Recompensa Prom (últimos 1000):  13.63 | Pasos Prom (últimos 1000):   14.6 | Epsilon: 0.231\n",
            "Episodio:  4000/20000 | Recompensa Prom (últimos 1000):  17.78 | Pasos Prom (últimos 1000):   18.8 | Epsilon: 0.144\n",
            "Episodio:  5000/20000 | Recompensa Prom (últimos 1000):  20.50 | Pasos Prom (últimos 1000):   21.5 | Epsilon: 0.091\n",
            "Episodio:  6000/20000 | Recompensa Prom (últimos 1000):  25.84 | Pasos Prom (últimos 1000):   26.8 | Epsilon: 0.059\n",
            "Episodio:  7000/20000 | Recompensa Prom (últimos 1000):  31.90 | Pasos Prom (últimos 1000):   32.9 | Epsilon: 0.040\n",
            "Episodio:  8000/20000 | Recompensa Prom (últimos 1000):  39.14 | Pasos Prom (últimos 1000):   40.1 | Epsilon: 0.028\n",
            "Episodio:  9000/20000 | Recompensa Prom (últimos 1000):  45.00 | Pasos Prom (últimos 1000):   46.0 | Epsilon: 0.021\n",
            "Episodio: 10000/20000 | Recompensa Prom (últimos 1000):  46.95 | Pasos Prom (últimos 1000):   47.9 | Epsilon: 0.017\n",
            "Episodio: 11000/20000 | Recompensa Prom (últimos 1000):  50.83 | Pasos Prom (últimos 1000):   51.8 | Epsilon: 0.014\n",
            "Episodio: 12000/20000 | Recompensa Prom (últimos 1000):  48.77 | Pasos Prom (últimos 1000):   49.8 | Epsilon: 0.012\n",
            "Episodio: 13000/20000 | Recompensa Prom (últimos 1000):  48.95 | Pasos Prom (últimos 1000):   50.0 | Epsilon: 0.011\n",
            "Episodio: 14000/20000 | Recompensa Prom (últimos 1000):  50.95 | Pasos Prom (últimos 1000):   52.0 | Epsilon: 0.011\n",
            "Episodio: 15000/20000 | Recompensa Prom (últimos 1000):  47.33 | Pasos Prom (últimos 1000):   48.3 | Epsilon: 0.011\n",
            "Episodio: 16000/20000 | Recompensa Prom (últimos 1000):  46.32 | Pasos Prom (últimos 1000):   47.3 | Epsilon: 0.010\n",
            "Episodio: 17000/20000 | Recompensa Prom (últimos 1000):  46.38 | Pasos Prom (últimos 1000):   47.4 | Epsilon: 0.010\n",
            "Episodio: 18000/20000 | Recompensa Prom (últimos 1000):  48.74 | Pasos Prom (últimos 1000):   49.7 | Epsilon: 0.010\n",
            "Episodio: 19000/20000 | Recompensa Prom (últimos 1000):  49.44 | Pasos Prom (últimos 1000):   50.4 | Epsilon: 0.010\n",
            "Episodio: 20000/20000 | Recompensa Prom (últimos 1000):  51.19 | Pasos Prom (últimos 1000):   52.2 | Epsilon: 0.010\n",
            "----------------------------------------\n",
            "Entrenamiento finalizado en 81.01 segundos.\n",
            "----------------------------------------\n"
          ]
        }
      ]
    },
    {
      "cell_type": "code",
      "source": [
        "# Gráfica de Convergencia (Recompensas con Media Móvil)\n",
        "mean_rewards = []\n",
        "for t in range(num_episodes):\n",
        "    mean_rewards.append(np.mean(rewards_all_episodes[max(0, t-100):(t+1)]))\n",
        "\n",
        "plt.plot(mean_rewards)\n",
        "plt.show()"
      ],
      "metadata": {
        "colab": {
          "base_uri": "https://localhost:8080/",
          "height": 430
        },
        "id": "RkgqE2z_aSUT",
        "outputId": "fd9c63d1-eae3-4310-c6c4-3b458f90af98"
      },
      "execution_count": 4,
      "outputs": [
        {
          "output_type": "display_data",
          "data": {
            "text/plain": [
              "<Figure size 640x480 with 1 Axes>"
            ],
            "image/png": "[encoded data removed]"
          },
          "metadata": {}
        }
      ]
    }
  ]
}